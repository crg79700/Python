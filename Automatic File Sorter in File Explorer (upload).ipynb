{
 "cells": [
  {
   "metadata": {
    "ExecuteTime": {
     "end_time": "2025-03-14T02:38:38.763402Z",
     "start_time": "2025-03-14T02:38:38.759838Z"
    }
   },
   "cell_type": "code",
   "source": "import os, shutil\n",
   "id": "9063d05c9806df88",
   "outputs": [],
   "execution_count": 38
  },
  {
   "metadata": {
    "ExecuteTime": {
     "end_time": "2025-03-14T02:38:39.201053Z",
     "start_time": "2025-03-14T02:38:39.196460Z"
    }
   },
   "cell_type": "code",
   "source": [
    "path = r\"/\" #insert your folder path here.\n",
    "\n",
    "path.replace(\"\\\\\",\"/\")"
   ],
   "id": "f2a471c19addf028",
   "outputs": [
    {
     "data": {
      "text/plain": [
       "'C:/Users/colin/OneDrive/Documents/Python File Sorter Practice/'"
      ]
     },
     "execution_count": 39,
     "metadata": {},
     "output_type": "execute_result"
    }
   ],
   "execution_count": 39
  },
  {
   "metadata": {
    "ExecuteTime": {
     "end_time": "2025-03-14T02:41:31.650572Z",
     "start_time": "2025-03-14T02:41:31.646436Z"
    }
   },
   "cell_type": "code",
   "source": [
    "file_name = os.listdir(path)\n",
    "print(file_name)"
   ],
   "id": "a6c43b704163a3ec",
   "outputs": [
    {
     "name": "stdout",
     "output_type": "stream",
     "text": [
      "['Images Files', 'PDF Files', 'VSS Reg Receipt 2.png', 'Word Docs']\n"
     ]
    }
   ],
   "execution_count": 60
  },
  {
   "metadata": {
    "ExecuteTime": {
     "end_time": "2025-03-14T02:40:13.999305Z",
     "start_time": "2025-03-14T02:40:13.995694Z"
    }
   },
   "cell_type": "code",
   "source": [
    "folder_names = ['Word Docs', 'Images Files', 'PDF Files'] #Name the folders that you wish to create\n",
    "\n",
    "\n",
    "for loop in range(folder_names.__len__()):\n",
    "    if not os.path.exists(path + folder_names[loop]):\n",
    "        os.makedirs(path + folder_names[loop])"
   ],
   "id": "73e62c3224be4b2d",
   "outputs": [],
   "execution_count": 47
  },
  {
   "metadata": {
    "ExecuteTime": {
     "end_time": "2025-03-14T02:40:16.207516Z",
     "start_time": "2025-03-14T02:40:16.202810Z"
    }
   },
   "cell_type": "code",
   "source": "os.path.exists(path + folder_names[loop])",
   "id": "cbba693a4b27cdf7",
   "outputs": [
    {
     "data": {
      "text/plain": [
       "True"
      ]
     },
     "execution_count": 48,
     "metadata": {},
     "output_type": "execute_result"
    }
   ],
   "execution_count": 48
  },
  {
   "metadata": {
    "ExecuteTime": {
     "end_time": "2025-03-14T02:41:34.955988Z",
     "start_time": "2025-03-14T02:41:34.951296Z"
    }
   },
   "cell_type": "code",
   "source": [
    "file_name = os.listdir(path) #Just makes sure that when you run this cell that the files the program reads are up to date before it tries to organize\n",
    "print(file_name)\n",
    "\n",
    "#Just change the file types to the ones you wish to organize and make sure folder names match to the folder_names list. \n",
    "for file in file_name:\n",
    "    if \".png\" in file and not os.path.exists(path + \"/Images Files/\" + file):\n",
    "        shutil.move(path + file, path + \"/Images Files/\" + file)\n",
    "    if \".pdf\" in file and not os.path.exists(path + \"/PDF Files/\" + file):\n",
    "        shutil.move(path + file, path + \"/PDF Files/\" + file)\n",
    "    if \".docx\" in file and not os.path.exists(path + \"/Word Docs/\" + file):\n",
    "        shutil.move(path + file, path + \"/Word Docs/\" + file)"
   ],
   "id": "157d1a066a1e13c3",
   "outputs": [],
   "execution_count": 61
  }
 ],
 "metadata": {
  "kernelspec": {
   "name": "python3",
   "language": "python",
   "display_name": "Python 3 (ipykernel)"
  }
 },
 "nbformat": 5,
 "nbformat_minor": 9
}
