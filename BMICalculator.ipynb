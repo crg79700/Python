{
 "cells": [
  {
   "metadata": {
    "ExecuteTime": {
     "end_time": "2025-03-13T16:44:18.195819Z",
     "start_time": "2025-03-13T16:44:18.191294Z"
    }
   },
   "cell_type": "code",
   "source": "# BMI = (weight in pounds x 703)/(height in inches x height in inches)",
   "id": "b7b749c3f57aa27",
   "outputs": [],
   "execution_count": 1
  },
  {
   "metadata": {
    "ExecuteTime": {
     "end_time": "2025-03-13T16:58:32.443637Z",
     "start_time": "2025-03-13T16:58:24.014686Z"
    }
   },
   "cell_type": "code",
   "source": [
    "weight = int(input(\"Enter your weight in pounds: \"))\n",
    "\n",
    "height_input = input(\"Enter your height in feet (e.g., 5'11\\\"): \")\n",
    "feet, inches = height_input.split(\"'\")\n",
    "feet = int(feet)\n",
    "inches = int(inches.replace('\"', ''))\n",
    "\n",
    "height = int((feet * 12) + inches)\n",
    "print(f\"Your weight in pounds is: {weight}\")\n",
    "\n",
    "print(f\"Your height in inches: {height}\")\n"
   ],
   "id": "9b230d3fefd749bf",
   "outputs": [
    {
     "name": "stdout",
     "output_type": "stream",
     "text": [
      "Your weight in pounds is: 207\n",
      "Your height in inches: 71\n"
     ]
    }
   ],
   "execution_count": 10
  },
  {
   "metadata": {
    "ExecuteTime": {
     "end_time": "2025-03-13T17:00:41.462206Z",
     "start_time": "2025-03-13T17:00:41.457685Z"
    }
   },
   "cell_type": "code",
   "source": [
    "BMI = (weight * 703)/(height * height)\n",
    "\n",
    "print(f\"Your BMI is {BMI:.3g}\")"
   ],
   "id": "6774df2417a96445",
   "outputs": [
    {
     "name": "stdout",
     "output_type": "stream",
     "text": [
      "Your BMI is 28.9\n"
     ]
    }
   ],
   "execution_count": 14
  },
  {
   "metadata": {
    "ExecuteTime": {
     "end_time": "2025-03-14T02:43:56.766569Z",
     "start_time": "2025-03-14T02:43:48.831669Z"
    }
   },
   "cell_type": "code",
   "source": [
    "def bmi_calc(BMI):\n",
    "    if BMI < 18.5:\n",
    "        return \"You are underweight and have a high health risk\"\n",
    "    elif BMI <= 25:\n",
    "        return \"You are normal weight and have a minimal health risk\"\n",
    "    elif BMI <= 29.9:\n",
    "        return \"You are overweight and have an increased health risk\"\n",
    "    elif BMI <= 34.9:\n",
    "        return \"You are obese and have a high health risk\"\n",
    "    elif BMI <= 39.9:\n",
    "        return \"You are severely obese and have a very high health risk\"\n",
    "    else:\n",
    "        return \"You are morbidly obese and have an extremely high health risk\"\n",
    "try:\n",
    "    # Input weight in pounds\n",
    "    weight = float(input(\"Enter your weight in pounds: \"))\n",
    "\n",
    "    #Height calculator that converts the normal feet' inches\" input into just inches\n",
    "    height_input = input(\"Enter your height in feet (e.g., 5'11\\\"): \")\n",
    "    feet, inches = height_input.split(\"'\")\n",
    "    feet = int(feet)\n",
    "    inches = int(inches.replace('\"', ''))\n",
    "\n",
    "    height = int((feet * 12) + inches)\n",
    "\n",
    "    print(f\"Your weight is: {weight}\", \"pounds\")\n",
    "    print(f\"Your height is: {height}\", \"inches\")\n",
    "\n",
    "    #Calculates BMI based off the above Weight and (converted) Height inputs\n",
    "    BMI = (weight * 703)/(height * height)\n",
    "    print(f\"Your BMI is {BMI:.3g}\")\n",
    "\n",
    "    # Calls the bmi_calc function that then tells you what range your BMI is in and if it has any health impacts\n",
    "    print(bmi_calc(BMI))\n",
    "\n",
    "except ValueError:\n",
    "    print(\"Please enter valid numbers in the correct format (e.g., 5'11\\\")\")\n"
   ],
   "id": "c1e65774a975dce",
   "outputs": [
    {
     "name": "stdout",
     "output_type": "stream",
     "text": [
      "Your weight is: 207.0 pounds\n",
      "Your height is: 71 inches\n",
      "Your BMI is 28.9\n",
      "You are overweight and have an increased health risk\n"
     ]
    }
   ],
   "execution_count": 32
  }
 ],
 "metadata": {
  "kernelspec": {
   "name": "python3",
   "language": "python",
   "display_name": "Python 3 (ipykernel)"
  }
 },
 "nbformat": 5,
 "nbformat_minor": 9
}
